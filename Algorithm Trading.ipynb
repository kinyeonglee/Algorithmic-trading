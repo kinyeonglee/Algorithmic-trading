{
 "cells": [
  {
   "cell_type": "markdown",
   "metadata": {},
   "source": [
    "# Importing Libraries\n",
    "\n",
    "In this project, we are going to use common libraries below\n"
   ]
  },
  {
   "cell_type": "code",
   "execution_count": 12,
   "metadata": {},
   "outputs": [],
   "source": [
    "import pandas as pd\n",
    "import numpy as np\n",
    "import matplotlib.pyplot as plt\n",
    "import seaborn as sns\n",
    "from scipy import stats\n",
    "import requests \n",
    "import xlsxwriter\n",
    "import math"
   ]
  },
  {
   "cell_type": "markdown",
   "metadata": {},
   "source": [
    "# Importing S&P 500 Symbol File\n",
    "We first import a static file containing 505 different symbols for each company in S&P 500."
   ]
  },
  {
   "cell_type": "code",
   "execution_count": 13,
   "metadata": {
    "scrolled": true
   },
   "outputs": [],
   "source": [
    "stocks=pd.read_csv('sp_500_stocks.csv')"
   ]
  },
  {
   "cell_type": "markdown",
   "metadata": {},
   "source": [
    "# Acquire API Token\n",
    "In this project for illustration purposes, we are going to use a sandbox API token that is free from IEX Cloud. "
   ]
  },
  {
   "cell_type": "code",
   "execution_count": 14,
   "metadata": {},
   "outputs": [],
   "source": [
    "IEX_CLOUD_API_TOKEN = 'Tpk_059b97af715d417d9f49f50b51b1c448'"
   ]
  },
  {
   "cell_type": "markdown",
   "metadata": {},
   "source": [
    "# Split Symbols Into Subgroups\n",
    "\n",
    "Because of time effienciency, it's better to use a batch API call rather than a single invidual API call for each symbol. \n",
    "\n",
    "We first need to break down the 505 symbols into 5 groups with 100 symbols per group. "
   ]
  },
  {
   "cell_type": "code",
   "execution_count": 15,
   "metadata": {},
   "outputs": [],
   "source": [
    "def chunks (lst,n): # split a list into sublist\n",
    "    for i in range(0,len(lst),n):\n",
    "        yield lst[i:i+n]\n",
    "symbol_groups=list(chunks(stocks['Ticker'],100))\n",
    "symbol_strings=[]\n",
    "for i in range(0,len(symbol_groups)):\n",
    "    symbol_strings.append(','.join(symbol_groups[i]))"
   ]
  },
  {
   "cell_type": "markdown",
   "metadata": {},
   "source": [
    "# Creating A Column List for DataFrame\n",
    "The following is to create a list of each coloumns for the data frame we are going to work on. "
   ]
  },
  {
   "cell_type": "code",
   "execution_count": 18,
   "metadata": {},
   "outputs": [],
   "source": [
    "rv_columns=['Ticker',\n",
    "            'Price',\n",
    "            'Numbers of Shares to Buy',\n",
    "            'Price-to-Earnings Ratio',\n",
    "            'PE Percentile',\n",
    "            'Price-to-Book Ratio',\n",
    "            'PB Percentile',\n",
    "            'Price-to-Sale Ratio',\n",
    "            'PS Percentile',\n",
    "            'EV/EBITDA',\n",
    "            'EV/EBITDA Percentile',\n",
    "            'EV/GP',\n",
    "            'EV/GP Percentile',\n",
    "            'RV'] #Robust Value"
   ]
  },
  {
   "cell_type": "markdown",
   "metadata": {},
   "source": [
    "# Requesting Batch API Calls\n",
    "\n",
    "Now we have 5 groups of symbols. The next step is to make a batch API calls for each group of symbols to get different ratios which consist of \n",
    "\n",
    "* Price-Earning Ratio\n",
    "* Price-to-book Ratio\n",
    "* Price-to-sales Ratio\n",
    "* EV(Enterprise Value)-to-EBITDA(Earning Before Interest,Taxes,Depreciation and Ammortization)\n",
    "* EV-to-Gross Profit\n",
    "\n",
    "We later then append these ratios into our dataframe."
   ]
  },
  {
   "cell_type": "code",
   "execution_count": 21,
   "metadata": {},
   "outputs": [],
   "source": [
    "rv_dataframe=pd.DataFrame(columns=rv_columns)\n",
    "for x in symbol_strings:\n",
    "    batch_api_call_url = f'https://sandbox.iexapis.com/stable/stock/market/batch?symbols={x}&types=advanced-stats,quote&token={IEX_CLOUD_API_TOKEN}'\n",
    "    data=requests.get(batch_api_call_url).json()\n",
    "    for y in x.split(\",\"):\n",
    "        try:\n",
    "            EV_EBITDA=data[y]['advanced-stats']['enterpriseValue']/data[y]['advanced-stats']['EBITDA']\n",
    "        except TypeError:\n",
    "            EV_EBITDA=np.nan\n",
    "        try:\n",
    "            EV_GP=data[y]['advanced-stats']['enterpriseValue']/data[y]['advanced-stats']['grossProfit']\n",
    "        except TypeError:\n",
    "            EV_GP=np.nan\n",
    "        rv_dataframe=rv_dataframe.append(pd.Series(\n",
    "            [y,\n",
    "             data[y]['quote']['latestPrice'],\n",
    "             \"N/A\",\n",
    "             data[y]['quote']['peRatio'],\n",
    "            \"N/A\",\n",
    "             data[y]['advanced-stats']['priceToBook'],\n",
    "             \"N/A\",\n",
    "             data[y]['advanced-stats']['priceToSales'],\n",
    "             'N/A',\n",
    "             EV_EBITDA,\n",
    "             'N/A',\n",
    "             EV_GP,\n",
    "             'N/A',\n",
    "             'N/A'\n",
    "            ],index=rv_columns\n",
    "        ),ignore_index=True)\n",
    "\n",
    "rv_dataframe.dropna(inplace=True)"
   ]
  },
  {
   "cell_type": "markdown",
   "metadata": {},
   "source": [
    "# Calculating Each Ratios' Percentile and RV Value\n",
    "We use stats.percentileofscore function to compute percentiles for each ratio. Then we use apply method to calculate the mean of all percentiles for each symbol to the RV(Robust Value)."
   ]
  },
  {
   "cell_type": "code",
   "execution_count": 23,
   "metadata": {},
   "outputs": [],
   "source": [
    "rvs=[\n",
    "    'PE',\n",
    "    'PB',\n",
    "    'PS',\n",
    "    'EV/EBITDA',\n",
    "    'EV/GP'\n",
    "]\n",
    "\n",
    "rv_columns1=['Ticker',\n",
    "            'Price',\n",
    "            'Numbers of Shares to Buy',\n",
    "            'PE Ratio',\n",
    "            'PE Percentile',\n",
    "            'PB Ratio',\n",
    "            'PB Percentile',\n",
    "            'PS Ratio',\n",
    "            'PS Percentile',\n",
    "            'EV/EBITDA Ratio',\n",
    "            'EV/EBITDA Percentile',\n",
    "            'EV/GP Ratio',\n",
    "            'EV/GP Percentile',\n",
    "            'RV']\n",
    "rv_dataframe.columns=rv_columns1\n",
    "for x in rv_dataframe.index:\n",
    "    for y in rvs:\n",
    "        rv_dataframe.loc[x,f'{y} Percentile']=stats.percentileofscore(rv_dataframe[f'{y} Ratio'].astype(np.float64),rv_dataframe.loc[x,f'{y} Ratio'])\n",
    "\n",
    "rv_dataframe['RV']=rv_dataframe[[f'{y} Percentile' for y in rvs]].apply(np.mean,axis=1)\n",
    "rv_dataframe.columns=rv_columns"
   ]
  },
  {
   "cell_type": "markdown",
   "metadata": {},
   "source": [
    "# Sorting by RV and Select The Top 50 Stocks"
   ]
  },
  {
   "cell_type": "code",
   "execution_count": 26,
   "metadata": {},
   "outputs": [],
   "source": [
    "rv_dataframe.sort_values('RV',ascending=True,inplace=True)\n",
    "rv_dataframe.reset_index(inplace=True,drop=True)\n",
    "rv_dataframe=rv_dataframe[:50]"
   ]
  },
  {
   "cell_type": "markdown",
   "metadata": {},
   "source": [
    "# Caulating Number of Shares to Buy\n",
    "\n",
    "We define how many shares to buy for each stock based on the portfolio value you enter. And we enter those value into \"Numbers of Shares to Buy\" variable from rv_dataframe using apply method."
   ]
  },
  {
   "cell_type": "code",
   "execution_count": 28,
   "metadata": {},
   "outputs": [
    {
     "name": "stdout",
     "output_type": "stream",
     "text": [
      "Please Enter Your Portfolio Value:1000000\n"
     ]
    },
    {
     "name": "stderr",
     "output_type": "stream",
     "text": [
      "<ipython-input-28-816f8951a6fa>:10: SettingWithCopyWarning: \n",
      "A value is trying to be set on a copy of a slice from a DataFrame.\n",
      "Try using .loc[row_indexer,col_indexer] = value instead\n",
      "\n",
      "See the caveats in the documentation: https://pandas.pydata.org/pandas-docs/stable/user_guide/indexing.html#returning-a-view-versus-a-copy\n",
      "  rv_dataframe['Numbers of Shares to Buy']=(position_size/rv_dataframe['Price']).apply(math.floor)\n"
     ]
    }
   ],
   "source": [
    "def portfolio_input():\n",
    "    global portfolio_size\n",
    "    portfolio_size=input('Please Enter Your Portfolio Value:')\n",
    "    try:\n",
    "        float(portfolio_size)\n",
    "    except:\n",
    "        portfolio_size=input(\"Please enter a float or an integer: \")\n",
    "portfolio_input()\n",
    "position_size=float(portfolio_size)/len(rv_dataframe)\n",
    "rv_dataframe['Numbers of Shares to Buy']=(position_size/rv_dataframe['Price']).apply(math.floor)\n"
   ]
  },
  {
   "cell_type": "markdown",
   "metadata": {},
   "source": [
    "# Saving into Excel"
   ]
  },
  {
   "cell_type": "code",
   "execution_count": 31,
   "metadata": {},
   "outputs": [],
   "source": [
    "writer=pd.ExcelWriter('RobustValue.xlsx',engine='xlsxwriter')\n",
    "rv_dataframe.to_excel(writer,'Value',index=False)\n",
    "writer.save()"
   ]
  }
 ],
 "metadata": {
  "kernelspec": {
   "display_name": "Python 3",
   "language": "python",
   "name": "python3"
  },
  "language_info": {
   "codemirror_mode": {
    "name": "ipython",
    "version": 3
   },
   "file_extension": ".py",
   "mimetype": "text/x-python",
   "name": "python",
   "nbconvert_exporter": "python",
   "pygments_lexer": "ipython3",
   "version": "3.8.5"
  }
 },
 "nbformat": 4,
 "nbformat_minor": 4
}
